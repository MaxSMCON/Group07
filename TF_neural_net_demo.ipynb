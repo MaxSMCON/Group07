{
  "nbformat": 4,
  "nbformat_minor": 0,
  "metadata": {
    "colab": {
      "name": "TF neural net demo.ipynb",
      "provenance": [],
      "collapsed_sections": [],
      "toc_visible": true,
      "include_colab_link": true
    },
    "kernelspec": {
      "name": "python3",
      "display_name": "Python 3"
    },
    "language_info": {
      "name": "python"
    },
    "accelerator": "GPU"
  },
  "cells": [
    {
      "cell_type": "markdown",
      "metadata": {
        "id": "view-in-github",
        "colab_type": "text"
      },
      "source": [
        "<a href=\"https://colab.research.google.com/github/MaxSMCON/Group07/blob/main/TF_neural_net_demo.ipynb\" target=\"_parent\"><img src=\"https://colab.research.google.com/assets/colab-badge.svg\" alt=\"Open In Colab\"/></a>"
      ]
    },
    {
      "cell_type": "markdown",
      "metadata": {
        "id": "6jhWeaaJeZvK"
      },
      "source": [
        "2021-11-21"
      ]
    },
    {
      "cell_type": "markdown",
      "metadata": {
        "id": "R725KCjCjQiW"
      },
      "source": [
        "# Check GPU"
      ]
    },
    {
      "cell_type": "code",
      "metadata": {
        "colab": {
          "base_uri": "https://localhost:8080/"
        },
        "id": "KwumivlBjQN3",
        "outputId": "67c17317-4e2a-4d29-cb74-f4aafb3d38b4"
      },
      "source": [
        "!nvidia-smi"
      ],
      "execution_count": null,
      "outputs": [
        {
          "output_type": "stream",
          "name": "stdout",
          "text": [
            "Tue Dec  7 14:54:14 2021       \n",
            "+-----------------------------------------------------------------------------+\n",
            "| NVIDIA-SMI 495.44       Driver Version: 460.32.03    CUDA Version: 11.2     |\n",
            "|-------------------------------+----------------------+----------------------+\n",
            "| GPU  Name        Persistence-M| Bus-Id        Disp.A | Volatile Uncorr. ECC |\n",
            "| Fan  Temp  Perf  Pwr:Usage/Cap|         Memory-Usage | GPU-Util  Compute M. |\n",
            "|                               |                      |               MIG M. |\n",
            "|===============================+======================+======================|\n",
            "|   0  Tesla K80           Off  | 00000000:00:04.0 Off |                    0 |\n",
            "| N/A   42C    P8    29W / 149W |      0MiB / 11441MiB |      0%      Default |\n",
            "|                               |                      |                  N/A |\n",
            "+-------------------------------+----------------------+----------------------+\n",
            "                                                                               \n",
            "+-----------------------------------------------------------------------------+\n",
            "| Processes:                                                                  |\n",
            "|  GPU   GI   CI        PID   Type   Process name                  GPU Memory |\n",
            "|        ID   ID                                                   Usage      |\n",
            "|=============================================================================|\n",
            "|  No running processes found                                                 |\n",
            "+-----------------------------------------------------------------------------+\n"
          ]
        }
      ]
    },
    {
      "cell_type": "markdown",
      "metadata": {
        "id": "EgTo6vqCjZff"
      },
      "source": [
        "# Import stuff"
      ]
    },
    {
      "cell_type": "code",
      "metadata": {
        "colab": {
          "base_uri": "https://localhost:8080/",
          "height": 35
        },
        "id": "fCnGs03AeW2z",
        "outputId": "cfe1ac27-68f6-4231-f06e-543225731150"
      },
      "source": [
        "import os, glob\n",
        "import numpy as np\n",
        "import pandas as pd\n",
        "from PIL import Image, ImageOps\n",
        "import matplotlib.pyplot as plt\n",
        "import seaborn as sns\n",
        "\n",
        "import tensorflow as tf\n",
        "tf.__version__"
      ],
      "execution_count": null,
      "outputs": [
        {
          "output_type": "execute_result",
          "data": {
            "application/vnd.google.colaboratory.intrinsic+json": {
              "type": "string"
            },
            "text/plain": [
              "'2.7.0'"
            ]
          },
          "metadata": {},
          "execution_count": 2
        }
      ]
    },
    {
      "cell_type": "code",
      "metadata": {
        "colab": {
          "base_uri": "https://localhost:8080/"
        },
        "id": "uX4SU_ZBjNUK",
        "outputId": "43fd5a65-bd05-4bec-d8f1-ab34fbf3bb2d"
      },
      "source": [
        "print(\"Num GPUs Available: \", len(tf.config.experimental.list_physical_devices('GPU')))"
      ],
      "execution_count": null,
      "outputs": [
        {
          "output_type": "stream",
          "name": "stdout",
          "text": [
            "Num GPUs Available:  1\n"
          ]
        }
      ]
    },
    {
      "cell_type": "markdown",
      "metadata": {
        "id": "Jp2wG5B6o40s"
      },
      "source": [
        "# Load data"
      ]
    },
    {
      "cell_type": "code",
      "metadata": {
        "colab": {
          "base_uri": "https://localhost:8080/"
        },
        "id": "YahYK-AGo1ij",
        "outputId": "36917460-357b-4ce8-cc36-a235cbb27df4"
      },
      "source": [
        "# https://www.tensorflow.org/api_docs/python/tf/keras/datasets/mnist/load_data\n",
        "(X_train, y_train), (X_test, y_test) = tf.keras.datasets.mnist.load_data()\n",
        "print('X_train:',X_train.shape)\n",
        "print('X_test:',X_test.shape)\n",
        "print('y_train:',y_train.shape)\n",
        "print('y_test:',y_test.shape)"
      ],
      "execution_count": null,
      "outputs": [
        {
          "output_type": "stream",
          "name": "stdout",
          "text": [
            "Downloading data from https://storage.googleapis.com/tensorflow/tf-keras-datasets/mnist.npz\n",
            "11493376/11490434 [==============================] - 0s 0us/step\n",
            "11501568/11490434 [==============================] - 0s 0us/step\n",
            "X_train: (60000, 28, 28)\n",
            "X_test: (10000, 28, 28)\n",
            "y_train: (60000,)\n",
            "y_test: (10000,)\n"
          ]
        }
      ]
    },
    {
      "cell_type": "code",
      "metadata": {
        "colab": {
          "base_uri": "https://localhost:8080/",
          "height": 284
        },
        "id": "wM4NCR4Fo_dJ",
        "outputId": "a5514e30-6e92-4e93-c2ac-da3ec5dcfb14"
      },
      "source": [
        "img_idx = np.random.randint(0,len(X_train)-1)\n",
        "print(f\"Showing X_train[{img_idx}] 👉 label: {y_train[img_idx]}\")\n",
        "plt.imshow(X_train[img_idx], cmap=\"gray\");"
      ],
      "execution_count": null,
      "outputs": [
        {
          "output_type": "stream",
          "name": "stdout",
          "text": [
            "Showing X_train[14985] 👉 label: 9\n"
          ]
        },
        {
          "output_type": "display_data",
          "data": {
            "image/png": "[encoded data removed]",
            "text/plain": [
              "<Figure size 432x288 with 1 Axes>"
            ]
          },
          "metadata": {
            "needs_background": "light"
          }
        }
      ]
    },
    {
      "cell_type": "markdown",
      "metadata": {
        "id": "fMptgHKuqe-Q"
      },
      "source": [
        "# Prepare the data for neural net"
      ]
    },
    {
      "cell_type": "markdown",
      "metadata": {
        "id": "n8dps-d7rFWi"
      },
      "source": [
        "## Scale the features to 0-1"
      ]
    },
    {
      "cell_type": "code",
      "metadata": {
        "colab": {
          "base_uri": "https://localhost:8080/"
        },
        "id": "nj-7owdeq2dY",
        "outputId": "25ab2f6b-cb0b-4a3e-e0d1-7c4216b4dc70"
      },
      "source": [
        "X_train.min(), X_train.max()"
      ],
      "execution_count": null,
      "outputs": [
        {
          "output_type": "execute_result",
          "data": {
            "text/plain": [
              "(0, 255)"
            ]
          },
          "metadata": {},
          "execution_count": 6
        }
      ]
    },
    {
      "cell_type": "code",
      "metadata": {
        "colab": {
          "base_uri": "https://localhost:8080/"
        },
        "id": "7niBFMMlqFyv",
        "outputId": "b4c05445-affb-49f5-d698-ba870ea6562b"
      },
      "source": [
        "X_train_nomarlized = X_train/255\n",
        "X_test_nomarlized = X_test/255\n",
        "X_train_nomarlized.min(), X_train_nomarlized.max()"
      ],
      "execution_count": null,
      "outputs": [
        {
          "output_type": "execute_result",
          "data": {
            "text/plain": [
              "(0.0, 1.0)"
            ]
          },
          "metadata": {},
          "execution_count": 7
        }
      ]
    },
    {
      "cell_type": "markdown",
      "metadata": {
        "id": "wBkFTG7d08FK"
      },
      "source": [
        "## Expand dimension for feeding into TF"
      ]
    },
    {
      "cell_type": "code",
      "metadata": {
        "colab": {
          "base_uri": "https://localhost:8080/"
        },
        "id": "uwbXDtNd07Q4",
        "outputId": "bef78762-dc5f-49eb-b6e9-089662e1e008"
      },
      "source": [
        " #add another dimension to the end of the data to represent the number of channel (we have 1 channel for the image because it's black and white)\n",
        "X_train_TF = np.expand_dims(X_train_nomarlized, 3)\n",
        "X_test_TF = np.expand_dims(X_test_nomarlized, 3)\n",
        "print(f\"X_train_TF: {X_train_TF.shape}\")\n",
        "print(f\"X_test_TF: {X_test_TF.shape}\")"
      ],
      "execution_count": null,
      "outputs": [
        {
          "output_type": "stream",
          "name": "stdout",
          "text": [
            "X_train_TF: (60000, 28, 28, 1)\n",
            "X_test_TF: (10000, 28, 28, 1)\n"
          ]
        }
      ]
    },
    {
      "cell_type": "markdown",
      "metadata": {
        "id": "KjR7IiHrrIc1"
      },
      "source": [
        "## One-hot encode the target (for multiclass classification)"
      ]
    },
    {
      "cell_type": "code",
      "metadata": {
        "colab": {
          "base_uri": "https://localhost:8080/"
        },
        "id": "LL-quQnfrePf",
        "outputId": "226c093b-98b2-44ca-b27f-36ba7aa6237a"
      },
      "source": [
        "y_train.shape"
      ],
      "execution_count": null,
      "outputs": [
        {
          "output_type": "execute_result",
          "data": {
            "text/plain": [
              "(60000,)"
            ]
          },
          "metadata": {},
          "execution_count": 9
        }
      ]
    },
    {
      "cell_type": "code",
      "metadata": {
        "colab": {
          "base_uri": "https://localhost:8080/"
        },
        "id": "8XX4lH39rRTl",
        "outputId": "b2ac4416-464b-4dc8-e85a-04b6f358046c"
      },
      "source": [
        "np.unique(y_train)"
      ],
      "execution_count": null,
      "outputs": [
        {
          "output_type": "execute_result",
          "data": {
            "text/plain": [
              "array([0, 1, 2, 3, 4, 5, 6, 7, 8, 9], dtype=uint8)"
            ]
          },
          "metadata": {},
          "execution_count": 10
        }
      ]
    },
    {
      "cell_type": "code",
      "metadata": {
        "colab": {
          "base_uri": "https://localhost:8080/"
        },
        "id": "07E1u3xMqpr0",
        "outputId": "bb37a53e-fee6-4131-babf-eac805196adb"
      },
      "source": [
        "from tensorflow.keras.utils import to_categorical\n",
        "y_train_onehot = to_categorical(y_train, 10)\n",
        "y_test_onehot = to_categorical(y_test, 10)\n",
        "y_train_onehot.shape"
      ],
      "execution_count": null,
      "outputs": [
        {
          "output_type": "execute_result",
          "data": {
            "text/plain": [
              "(60000, 10)"
            ]
          },
          "metadata": {},
          "execution_count": 11
        }
      ]
    },
    {
      "cell_type": "markdown",
      "metadata": {
        "id": "gVCop4eArk2p"
      },
      "source": [
        "# Define the model architecture"
      ]
    },
    {
      "cell_type": "markdown",
      "metadata": {
        "id": "4_fWB52KrzQH"
      },
      "source": [
        "## Simple fully connected"
      ]
    },
    {
      "cell_type": "code",
      "metadata": {
        "colab": {
          "base_uri": "https://localhost:8080/",
          "height": 629
        },
        "id": "NQWDfxVqsCWE",
        "outputId": "4b8dffc9-b490-4fd0-d79f-63fd2dcd57c5"
      },
      "source": [
        "from tensorflow.keras.models import Sequential\n",
        "from tensorflow.keras.layers import Flatten, Dense, Input\n",
        "\n",
        "model = Sequential([\n",
        "  Input(shape=(28, 28, 1)),\n",
        "  Flatten(),\n",
        "  Dense(128, activation=\"relu\"),\n",
        "  Dense(10, activation=\"softmax\"),\n",
        "])\n",
        "\n",
        "model.summary()\n",
        "from tensorflow.keras.utils import plot_model\n",
        "plot_model(model, to_file='model.png')"
      ],
      "execution_count": null,
      "outputs": [
        {
          "output_type": "stream",
          "name": "stdout",
          "text": [
            "Model: \"sequential_2\"\n",
            "_________________________________________________________________\n",
            " Layer (type)                Output Shape              Param #   \n",
            "=================================================================\n",
            " flatten_2 (Flatten)         (None, 784)               0         \n",
            "                                                                 \n",
            " dense_4 (Dense)             (None, 128)               100480    \n",
            "                                                                 \n",
            " dense_5 (Dense)             (None, 10)                1290      \n",
            "                                                                 \n",
            "=================================================================\n",
            "Total params: 101,770\n",
            "Trainable params: 101,770\n",
            "Non-trainable params: 0\n",
            "_________________________________________________________________\n"
          ]
        },
        {
          "output_type": "execute_result",
          "data": {
            "image/png": "[encoded data removed]",
            "text/plain": [
              "<IPython.core.display.Image object>"
            ]
          },
          "metadata": {},
          "execution_count": 53
        }
      ]
    },
    {
      "cell_type": "code",
      "metadata": {
        "colab": {
          "base_uri": "https://localhost:8080/"
        },
        "id": "FR3a_GGlrv8O",
        "outputId": "4d18b7e4-b48e-4bff-a10e-3eaf029aa555"
      },
      "source": [
        "784*128 + 128"
      ],
      "execution_count": null,
      "outputs": [
        {
          "output_type": "execute_result",
          "data": {
            "text/plain": [
              "100480"
            ]
          },
          "metadata": {},
          "execution_count": 23
        }
      ]
    },
    {
      "cell_type": "markdown",
      "metadata": {
        "id": "Y5BM8hPYr1zo"
      },
      "source": [
        "## CNN"
      ]
    },
    {
      "cell_type": "code",
      "metadata": {
        "id": "BtBUafehrdJU",
        "colab": {
          "base_uri": "https://localhost:8080/",
          "height": 1000
        },
        "outputId": "b6f96505-d11d-4ce9-bdfe-521cbfae0849"
      },
      "source": [
        "from tensorflow.keras.models import Sequential\n",
        "from tensorflow.keras.layers import Flatten, Dense, Conv2D, Input, MaxPooling2D, Dropout\n",
        "\n",
        "model = Sequential(\n",
        "    [\n",
        "        Conv2D(32, kernel_size=(3, 3), padding=\"same\", activation=\"relu\", input_shape=(28, 28, 1)),\n",
        "        MaxPooling2D(pool_size=(2, 2)),\n",
        "        Conv2D(64, kernel_size=(3, 3), padding=\"same\", activation=\"relu\"),\n",
        "        MaxPooling2D(pool_size=(2, 2)),\n",
        "        Conv2D(128, kernel_size=(3, 3), padding=\"same\", activation=\"relu\"),\n",
        "        Flatten(),\n",
        "        Dropout(0.1),\n",
        "        Dense(512, activation=\"relu\"),\n",
        "        Dense(10, activation=\"softmax\"),\n",
        "    ]\n",
        ")\n",
        "\n",
        "model.summary()\n",
        "from tensorflow.keras.utils import plot_model\n",
        "plot_model(model, to_file='model.png')"
      ],
      "execution_count": null,
      "outputs": [
        {
          "output_type": "stream",
          "name": "stdout",
          "text": [
            "Model: \"sequential_3\"\n",
            "_________________________________________________________________\n",
            " Layer (type)                Output Shape              Param #   \n",
            "=================================================================\n",
            " conv2d (Conv2D)             (None, 28, 28, 32)        320       \n",
            "                                                                 \n",
            " max_pooling2d (MaxPooling2D  (None, 14, 14, 32)       0         \n",
            " )                                                               \n",
            "                                                                 \n",
            " conv2d_1 (Conv2D)           (None, 14, 14, 64)        18496     \n",
            "                                                                 \n",
            " max_pooling2d_1 (MaxPooling  (None, 7, 7, 64)         0         \n",
            " 2D)                                                             \n",
            "                                                                 \n",
            " conv2d_2 (Conv2D)           (None, 7, 7, 128)         73856     \n",
            "                                                                 \n",
            " flatten_3 (Flatten)         (None, 6272)              0         \n",
            "                                                                 \n",
            " dropout (Dropout)           (None, 6272)              0         \n",
            "                                                                 \n",
            " dense_6 (Dense)             (None, 512)               3211776   \n",
            "                                                                 \n",
            " dense_7 (Dense)             (None, 10)                5130      \n",
            "                                                                 \n",
            "=================================================================\n",
            "Total params: 3,309,578\n",
            "Trainable params: 3,309,578\n",
            "Non-trainable params: 0\n",
            "_________________________________________________________________\n"
          ]
        },
        {
          "output_type": "execute_result",
          "data": {
            "image/png": "[encoded data removed]",
            "text/plain": [
              "<IPython.core.display.Image object>"
            ]
          },
          "metadata": {},
          "execution_count": 65
        }
      ]
    },
    {
      "cell_type": "markdown",
      "metadata": {
        "id": "WOzUszTxZA01"
      },
      "source": [
        "## FCN (Fully Convolutional Network)"
      ]
    },
    {
      "cell_type": "code",
      "metadata": {
        "colab": {
          "base_uri": "https://localhost:8080/",
          "height": 1000
        },
        "id": "ex3AJZuMZA0_",
        "outputId": "562d4290-41a0-4f05-dce0-85abaaf90912"
      },
      "source": [
        "from tensorflow.keras.models import Sequential\n",
        "from tensorflow.keras.layers import Flatten, Dense, Conv2D, Input, MaxPooling2D, Dropout, GlobalMaxPooling2D, Activation\n",
        "\n",
        "model = Sequential(\n",
        "    [\n",
        "        Conv2D(32, kernel_size=(3, 3), padding=\"same\", activation=\"relu\", input_shape=(28, 28, 1)),\n",
        "        MaxPooling2D(pool_size=(2, 2)),\n",
        "        Conv2D(64, kernel_size=(3, 3), padding=\"same\", activation=\"relu\"),\n",
        "        MaxPooling2D(pool_size=(2, 2)),\n",
        "        Conv2D(128, kernel_size=(3, 3), padding=\"same\", activation=\"relu\"),\n",
        "        MaxPooling2D(pool_size=(2, 2)),\n",
        "        Conv2D(64, kernel_size=1, padding=\"same\", activation=\"relu\"),\n",
        "        # Dropout(0.1),\n",
        "        Conv2D(10, kernel_size=1, padding=\"same\", activation=\"relu\"),\n",
        "        GlobalMaxPooling2D(),\n",
        "        Activation(activation=\"softmax\"),\n",
        "    ]\n",
        ")\n",
        "\n",
        "model.summary()\n",
        "from tensorflow.keras.utils import plot_model\n",
        "plot_model(model, to_file='model.png')"
      ],
      "execution_count": null,
      "outputs": [
        {
          "output_type": "stream",
          "name": "stdout",
          "text": [
            "Model: \"sequential_9\"\n",
            "_________________________________________________________________\n",
            " Layer (type)                Output Shape              Param #   \n",
            "=================================================================\n",
            " conv2d_51 (Conv2D)          (None, 28, 28, 32)        320       \n",
            "                                                                 \n",
            " max_pooling2d_31 (MaxPoolin  (None, 14, 14, 32)       0         \n",
            " g2D)                                                            \n",
            "                                                                 \n",
            " conv2d_52 (Conv2D)          (None, 14, 14, 64)        18496     \n",
            "                                                                 \n",
            " max_pooling2d_32 (MaxPoolin  (None, 7, 7, 64)         0         \n",
            " g2D)                                                            \n",
            "                                                                 \n",
            " conv2d_53 (Conv2D)          (None, 7, 7, 128)         73856     \n",
            "                                                                 \n",
            " max_pooling2d_33 (MaxPoolin  (None, 3, 3, 128)        0         \n",
            " g2D)                                                            \n",
            "                                                                 \n",
            " conv2d_54 (Conv2D)          (None, 3, 3, 64)          8256      \n",
            "                                                                 \n",
            " conv2d_55 (Conv2D)          (None, 3, 3, 10)          650       \n",
            "                                                                 \n",
            " global_max_pooling2d_8 (Glo  (None, 10)               0         \n",
            " balMaxPooling2D)                                                \n",
            "                                                                 \n",
            " activation_6 (Activation)   (None, 10)                0         \n",
            "                                                                 \n",
            "=================================================================\n",
            "Total params: 101,578\n",
            "Trainable params: 101,578\n",
            "Non-trainable params: 0\n",
            "_________________________________________________________________\n"
          ]
        },
        {
          "output_type": "execute_result",
          "data": {
            "image/png": "[encoded data removed]",
            "text/plain": [
              "<IPython.core.display.Image object>"
            ]
          },
          "metadata": {},
          "execution_count": 48
        }
      ]
    },
    {
      "cell_type": "markdown",
      "metadata": {
        "id": "DQgcwhbOummp"
      },
      "source": [
        "# Compile the model for training"
      ]
    },
    {
      "cell_type": "code",
      "metadata": {
        "id": "tbeLF-IksqpE"
      },
      "source": [
        "from tensorflow.keras.optimizers import Adam\n",
        "model.compile(\n",
        "    optimizer=Adam(learning_rate=1E-2),\n",
        "    loss=\"categorical_crossentropy\",\n",
        "    metrics=[\"accuracy\"],\n",
        ")"
      ],
      "execution_count": null,
      "outputs": []
    },
    {
      "cell_type": "markdown",
      "metadata": {
        "id": "Us7huxARu8RX"
      },
      "source": [
        "# Training"
      ]
    },
    {
      "cell_type": "markdown",
      "metadata": {
        "id": "40GOEJdjvBU-"
      },
      "source": [
        "## (Optional) Enable check points during training"
      ]
    },
    {
      "cell_type": "code",
      "metadata": {
        "id": "awoJCjl1vFIu",
        "colab": {
          "base_uri": "https://localhost:8080/"
        },
        "outputId": "497bde05-430d-4f77-a5ad-33ebf611dca6"
      },
      "source": [
        "checkpoint_filepath = 'checkpoint'\n",
        "# !rm \"$checkpoint_filepath\"/ -r\n",
        "!mkdir \"$checkpoint_filepath\"\n",
        "model_checkpoint_callback = tf.keras.callbacks.ModelCheckpoint(\n",
        "    filepath=checkpoint_filepath,\n",
        "    save_weights_only=False,\n",
        "    monitor='val_accuracy',\n",
        "    mode='max',\n",
        "    save_best_only=True)"
      ],
      "execution_count": null,
      "outputs": [
        {
          "output_type": "stream",
          "name": "stdout",
          "text": [
            "mkdir: cannot create directory ‘checkpoint’: File exists\n"
          ]
        }
      ]
    },
    {
      "cell_type": "markdown",
      "metadata": {
        "id": "AS7pfqyjwoJr"
      },
      "source": [
        "## (Optional) Enable early-stopping during training"
      ]
    },
    {
      "cell_type": "code",
      "metadata": {
        "id": "r4bTPdIqwspx"
      },
      "source": [
        "early_stopping = tf.keras.callbacks.EarlyStopping(monitor='val_accuracy', patience=3)"
      ],
      "execution_count": null,
      "outputs": []
    },
    {
      "cell_type": "markdown",
      "metadata": {
        "id": "oEaXjDuyw0yx"
      },
      "source": [
        "# Train the model"
      ]
    },
    {
      "cell_type": "code",
      "metadata": {
        "colab": {
          "base_uri": "https://localhost:8080/"
        },
        "id": "_QUwbnLFtMO7",
        "outputId": "9db74180-7769-480e-f34c-e48f01a79e34"
      },
      "source": [
        "history = model.fit(\n",
        "    x=X_train_TF,\n",
        "    y=y_train_onehot,\n",
        "    epochs=20,\n",
        "    batch_size=1024,\n",
        "    validation_data=(X_test_TF, y_test_onehot),\n",
        "    callbacks=[model_checkpoint_callback,early_stopping],\n",
        ")"
      ],
      "execution_count": null,
      "outputs": [
        {
          "output_type": "stream",
          "name": "stdout",
          "text": [
            "Epoch 1/20\n",
            "58/59 [============================>.] - ETA: 0s - loss: 0.8534 - accuracy: 0.7250INFO:tensorflow:Assets written to: checkpoint/assets\n",
            "59/59 [==============================] - 6s 90ms/step - loss: 0.8470 - accuracy: 0.7271 - val_loss: 0.1624 - val_accuracy: 0.9520\n",
            "Epoch 2/20\n",
            "58/59 [============================>.] - ETA: 0s - loss: 0.1490 - accuracy: 0.9548INFO:tensorflow:Assets written to: checkpoint/assets\n",
            "59/59 [==============================] - 5s 83ms/step - loss: 0.1488 - accuracy: 0.9549 - val_loss: 0.0982 - val_accuracy: 0.9693\n",
            "Epoch 3/20\n",
            "58/59 [============================>.] - ETA: 0s - loss: 0.0967 - accuracy: 0.9711INFO:tensorflow:Assets written to: checkpoint/assets\n",
            "59/59 [==============================] - 5s 85ms/step - loss: 0.0966 - accuracy: 0.9711 - val_loss: 0.0981 - val_accuracy: 0.9713\n",
            "Epoch 4/20\n",
            "58/59 [============================>.] - ETA: 0s - loss: 0.0739 - accuracy: 0.9777INFO:tensorflow:Assets written to: checkpoint/assets\n",
            "59/59 [==============================] - 5s 89ms/step - loss: 0.0736 - accuracy: 0.9777 - val_loss: 0.0741 - val_accuracy: 0.9770\n",
            "Epoch 5/20\n",
            "58/59 [============================>.] - ETA: 0s - loss: 0.0544 - accuracy: 0.9837INFO:tensorflow:Assets written to: checkpoint/assets\n",
            "59/59 [==============================] - 5s 85ms/step - loss: 0.0546 - accuracy: 0.9837 - val_loss: 0.0581 - val_accuracy: 0.9822\n",
            "Epoch 6/20\n",
            "59/59 [==============================] - 3s 59ms/step - loss: 0.0468 - accuracy: 0.9859 - val_loss: 0.0703 - val_accuracy: 0.9780\n",
            "Epoch 7/20\n",
            "59/59 [==============================] - 4s 61ms/step - loss: 0.0427 - accuracy: 0.9869 - val_loss: 0.0711 - val_accuracy: 0.9791\n",
            "Epoch 8/20\n",
            "58/59 [============================>.] - ETA: 0s - loss: 0.0343 - accuracy: 0.9892INFO:tensorflow:Assets written to: checkpoint/assets\n",
            "59/59 [==============================] - 5s 87ms/step - loss: 0.0344 - accuracy: 0.9891 - val_loss: 0.0636 - val_accuracy: 0.9823\n",
            "Epoch 9/20\n",
            "59/59 [==============================] - 4s 61ms/step - loss: 0.0323 - accuracy: 0.9898 - val_loss: 0.0711 - val_accuracy: 0.9807\n",
            "Epoch 10/20\n",
            "58/59 [============================>.] - ETA: 0s - loss: 0.0257 - accuracy: 0.9917INFO:tensorflow:Assets written to: checkpoint/assets\n",
            "59/59 [==============================] - 5s 84ms/step - loss: 0.0256 - accuracy: 0.9917 - val_loss: 0.0622 - val_accuracy: 0.9828\n",
            "Epoch 11/20\n",
            "58/59 [============================>.] - ETA: 0s - loss: 0.0173 - accuracy: 0.9947INFO:tensorflow:Assets written to: checkpoint/assets\n",
            "59/59 [==============================] - 5s 84ms/step - loss: 0.0174 - accuracy: 0.9946 - val_loss: 0.0618 - val_accuracy: 0.9842\n",
            "Epoch 12/20\n",
            "59/59 [==============================] - 4s 62ms/step - loss: 0.0176 - accuracy: 0.9944 - val_loss: 0.0754 - val_accuracy: 0.9802\n",
            "Epoch 13/20\n",
            "59/59 [==============================] - 4s 60ms/step - loss: 0.0172 - accuracy: 0.9944 - val_loss: 0.0624 - val_accuracy: 0.9834\n",
            "Epoch 14/20\n",
            "59/59 [==============================] - 3s 59ms/step - loss: 0.0140 - accuracy: 0.9953 - val_loss: 0.0787 - val_accuracy: 0.9810\n"
          ]
        }
      ]
    },
    {
      "cell_type": "markdown",
      "metadata": {
        "id": "De4Zx3aa4O3i"
      },
      "source": [
        "# Review learning curve"
      ]
    },
    {
      "cell_type": "code",
      "metadata": {
        "colab": {
          "base_uri": "https://localhost:8080/",
          "height": 488
        },
        "id": "pNxZPVlL4QOS",
        "outputId": "4638ee18-43db-418b-cdb1-62244069bda1"
      },
      "source": [
        "df_history = pd.DataFrame(history.history)\n",
        "df_history[\"epoch\"] = history.epoch\n",
        "df_history"
      ],
      "execution_count": null,
      "outputs": [
        {
          "output_type": "execute_result",
          "data": {
            "text/html": [
              "<div>\n",
              "<style scoped>\n",
              "    .dataframe tbody tr th:only-of-type {\n",
              "        vertical-align: middle;\n",
              "    }\n",
              "\n",
              "    .dataframe tbody tr th {\n",
              "        vertical-align: top;\n",
              "    }\n",
              "\n",
              "    .dataframe thead th {\n",
              "        text-align: right;\n",
              "    }\n",
              "</style>\n",
              "<table border=\"1\" class=\"dataframe\">\n",
              "  <thead>\n",
              "    <tr style=\"text-align: right;\">\n",
              "      <th></th>\n",
              "      <th>loss</th>\n",
              "      <th>accuracy</th>\n",
              "      <th>val_loss</th>\n",
              "      <th>val_accuracy</th>\n",
              "      <th>epoch</th>\n",
              "    </tr>\n",
              "  </thead>\n",
              "  <tbody>\n",
              "    <tr>\n",
              "      <th>0</th>\n",
              "      <td>0.846957</td>\n",
              "      <td>0.727050</td>\n",
              "      <td>0.162445</td>\n",
              "      <td>0.9520</td>\n",
              "      <td>0</td>\n",
              "    </tr>\n",
              "    <tr>\n",
              "      <th>1</th>\n",
              "      <td>0.148795</td>\n",
              "      <td>0.954900</td>\n",
              "      <td>0.098238</td>\n",
              "      <td>0.9693</td>\n",
              "      <td>1</td>\n",
              "    </tr>\n",
              "    <tr>\n",
              "      <th>2</th>\n",
              "      <td>0.096589</td>\n",
              "      <td>0.971100</td>\n",
              "      <td>0.098106</td>\n",
              "      <td>0.9713</td>\n",
              "      <td>2</td>\n",
              "    </tr>\n",
              "    <tr>\n",
              "      <th>3</th>\n",
              "      <td>0.073638</td>\n",
              "      <td>0.977733</td>\n",
              "      <td>0.074149</td>\n",
              "      <td>0.9770</td>\n",
              "      <td>3</td>\n",
              "    </tr>\n",
              "    <tr>\n",
              "      <th>4</th>\n",
              "      <td>0.054562</td>\n",
              "      <td>0.983700</td>\n",
              "      <td>0.058125</td>\n",
              "      <td>0.9822</td>\n",
              "      <td>4</td>\n",
              "    </tr>\n",
              "    <tr>\n",
              "      <th>5</th>\n",
              "      <td>0.046816</td>\n",
              "      <td>0.985917</td>\n",
              "      <td>0.070310</td>\n",
              "      <td>0.9780</td>\n",
              "      <td>5</td>\n",
              "    </tr>\n",
              "    <tr>\n",
              "      <th>6</th>\n",
              "      <td>0.042668</td>\n",
              "      <td>0.986950</td>\n",
              "      <td>0.071111</td>\n",
              "      <td>0.9791</td>\n",
              "      <td>6</td>\n",
              "    </tr>\n",
              "    <tr>\n",
              "      <th>7</th>\n",
              "      <td>0.034388</td>\n",
              "      <td>0.989100</td>\n",
              "      <td>0.063635</td>\n",
              "      <td>0.9823</td>\n",
              "      <td>7</td>\n",
              "    </tr>\n",
              "    <tr>\n",
              "      <th>8</th>\n",
              "      <td>0.032273</td>\n",
              "      <td>0.989750</td>\n",
              "      <td>0.071082</td>\n",
              "      <td>0.9807</td>\n",
              "      <td>8</td>\n",
              "    </tr>\n",
              "    <tr>\n",
              "      <th>9</th>\n",
              "      <td>0.025571</td>\n",
              "      <td>0.991717</td>\n",
              "      <td>0.062212</td>\n",
              "      <td>0.9828</td>\n",
              "      <td>9</td>\n",
              "    </tr>\n",
              "    <tr>\n",
              "      <th>10</th>\n",
              "      <td>0.017366</td>\n",
              "      <td>0.994633</td>\n",
              "      <td>0.061826</td>\n",
              "      <td>0.9842</td>\n",
              "      <td>10</td>\n",
              "    </tr>\n",
              "    <tr>\n",
              "      <th>11</th>\n",
              "      <td>0.017635</td>\n",
              "      <td>0.994400</td>\n",
              "      <td>0.075363</td>\n",
              "      <td>0.9802</td>\n",
              "      <td>11</td>\n",
              "    </tr>\n",
              "    <tr>\n",
              "      <th>12</th>\n",
              "      <td>0.017213</td>\n",
              "      <td>0.994450</td>\n",
              "      <td>0.062380</td>\n",
              "      <td>0.9834</td>\n",
              "      <td>12</td>\n",
              "    </tr>\n",
              "    <tr>\n",
              "      <th>13</th>\n",
              "      <td>0.014026</td>\n",
              "      <td>0.995333</td>\n",
              "      <td>0.078739</td>\n",
              "      <td>0.9810</td>\n",
              "      <td>13</td>\n",
              "    </tr>\n",
              "  </tbody>\n",
              "</table>\n",
              "</div>"
            ],
            "text/plain": [
              "        loss  accuracy  val_loss  val_accuracy  epoch\n",
              "0   0.846957  0.727050  0.162445        0.9520      0\n",
              "1   0.148795  0.954900  0.098238        0.9693      1\n",
              "2   0.096589  0.971100  0.098106        0.9713      2\n",
              "3   0.073638  0.977733  0.074149        0.9770      3\n",
              "4   0.054562  0.983700  0.058125        0.9822      4\n",
              "5   0.046816  0.985917  0.070310        0.9780      5\n",
              "6   0.042668  0.986950  0.071111        0.9791      6\n",
              "7   0.034388  0.989100  0.063635        0.9823      7\n",
              "8   0.032273  0.989750  0.071082        0.9807      8\n",
              "9   0.025571  0.991717  0.062212        0.9828      9\n",
              "10  0.017366  0.994633  0.061826        0.9842     10\n",
              "11  0.017635  0.994400  0.075363        0.9802     11\n",
              "12  0.017213  0.994450  0.062380        0.9834     12\n",
              "13  0.014026  0.995333  0.078739        0.9810     13"
            ]
          },
          "metadata": {},
          "execution_count": 53
        }
      ]
    },
    {
      "cell_type": "code",
      "metadata": {
        "colab": {
          "base_uri": "https://localhost:8080/",
          "height": 675
        },
        "id": "RhBR2poE4ez2",
        "outputId": "96e88f02-8b72-4fb6-aa3c-7270bcaefe72"
      },
      "source": [
        "# if validation score is higher than training score, it could mean high bias: https://stackoverflow.com/a/45854380\n",
        "with plt.style.context(\"fivethirtyeight\"):\n",
        "  ax = df_history.plot(x=\"epoch\", y=[\"accuracy\", \"val_accuracy\"], figsize=(15,10), title=\"Learning curve\");\n",
        "  ax.set_ylabel(\"score\")"
      ],
      "execution_count": null,
      "outputs": [
        {
          "output_type": "display_data",
          "data": {
            "image/png": "[encoded data removed]",
            "text/plain": [
              "<Figure size 1080x720 with 1 Axes>"
            ]
          },
          "metadata": {}
        }
      ]
    },
    {
      "cell_type": "code",
      "metadata": {
        "colab": {
          "base_uri": "https://localhost:8080/",
          "height": 675
        },
        "id": "8mw-fjTUsZD9",
        "outputId": "c5d5cf9b-3956-446b-9ef2-72d7e3a3e637"
      },
      "source": [
        "with plt.style.context(\"fivethirtyeight\"):\n",
        "  ax = df_history.plot(x=\"epoch\", y=[\"loss\", \"val_loss\"], figsize=(15,10), title=\"Learning curve\");\n",
        "  ax.set_ylabel(model.loss)"
      ],
      "execution_count": null,
      "outputs": [
        {
          "output_type": "display_data",
          "data": {
            "image/png": "[encoded data removed]",
            "text/plain": [
              "<Figure size 1080x720 with 1 Axes>"
            ]
          },
          "metadata": {}
        }
      ]
    },
    {
      "cell_type": "markdown",
      "metadata": {
        "id": "C-WxX2mPaSsM"
      },
      "source": [
        "# Save model"
      ]
    },
    {
      "cell_type": "code",
      "metadata": {
        "id": "Bl4jH2wMaSsM"
      },
      "source": [
        "model.save('model.h5')"
      ],
      "execution_count": null,
      "outputs": []
    },
    {
      "cell_type": "markdown",
      "metadata": {
        "id": "t8CwjNWBaSsM"
      },
      "source": [
        "# Load model"
      ]
    },
    {
      "cell_type": "code",
      "metadata": {
        "id": "D1rom4j-aSsM"
      },
      "source": [
        "model = tf.keras.models.load_model('model.h5')"
      ],
      "execution_count": null,
      "outputs": []
    },
    {
      "cell_type": "markdown",
      "metadata": {
        "id": "lepVoKZ36aFh"
      },
      "source": [
        "# Prediction"
      ]
    },
    {
      "cell_type": "code",
      "metadata": {
        "colab": {
          "base_uri": "https://localhost:8080/",
          "height": 317
        },
        "id": "8hVmgqPx03GU",
        "outputId": "56d7713b-b315-45b6-d5ee-3717c752cbf3"
      },
      "source": [
        "img_idx = np.random.randint(0,len(X_test_TF)-1)\n",
        "print(f\"Showing X_test[{img_idx}] 👉 label: {y_test[img_idx]}\")\n",
        "plt.imshow(X_test[img_idx], cmap=\"gray\");\n",
        "\n",
        "y_pred_scores = model.predict(X_test_TF[[img_idx]])\n",
        "dict_probabilities = dict(zip(np.unique(y_test), y_pred_scores[0]))\n",
        "print(f\"Predicted probabilities: {dict_probabilities}\")\n",
        "predicted_class = max(dict_probabilities, key=dict_probabilities.get)\n",
        "print(f\"Predicted class: {predicted_class}\")"
      ],
      "execution_count": null,
      "outputs": [
        {
          "output_type": "stream",
          "name": "stdout",
          "text": [
            "Showing X_test[7651] 👉 label: 9\n",
            "Predicted probabilities: {0: 2.7231401e-06, 1: 0.00013704658, 2: 2.8581231e-05, 3: 0.001011559, 4: 0.021401752, 5: 2.807297e-06, 6: 1.5513249e-06, 7: 0.00035050782, 8: 0.0050545502, 9: 0.97200894}\n",
            "Predicted class: 9\n"
          ]
        },
        {
          "output_type": "display_data",
          "data": {
            "image/png": "[encoded data removed]",
            "text/plain": [
              "<Figure size 432x288 with 1 Axes>"
            ]
          },
          "metadata": {
            "needs_background": "light"
          }
        }
      ]
    },
    {
      "cell_type": "markdown",
      "metadata": {
        "id": "fm6Hjiqw83kj"
      },
      "source": [
        "# Useful resources\n",
        "\n",
        "SHAP for visualizing feature importance:\n",
        "\n",
        "https://github.com/slundberg/shap\n",
        "\n",
        "Different activation functions compared:\n",
        "\n",
        "https://arxiv.org/ftp/arxiv/papers/2010/2010.09458.pdf\n",
        "\n",
        "Different optimizers compared:\n",
        "\n",
        "https://mlfromscratch.com/optimizers-explained/\n",
        "\n",
        "Play with learning rate and momentum:\n",
        "\n",
        "https://distill.pub/2017/momentum/\n",
        "\n",
        "Play with neural networks:\n",
        "\n",
        "https://playground.tensorflow.org/"
      ]
    },
    {
      "cell_type": "code",
      "metadata": {
        "id": "GYtGobZg85_a"
      },
      "source": [
        ""
      ],
      "execution_count": null,
      "outputs": []
    }
  ]
}